{
 "cells": [
  {
   "cell_type": "markdown",
   "id": "9ea7925d",
   "metadata": {},
   "source": [
    "## Accessing the Html Codes of a Specific Field"
   ]
  },
  {
   "cell_type": "code",
   "execution_count": 72,
   "id": "a2e0037f",
   "metadata": {},
   "outputs": [],
   "source": [
    "from selenium import webdriver\n",
    "driver_path = \"/home/berkay/Downloads/geckodriver\"\n",
    "driver = webdriver.Firefox(executable_path=driver_path)"
   ]
  },
  {
   "cell_type": "markdown",
   "id": "d57ebe11",
   "metadata": {},
   "source": [
    "![](https://github.com/berkay-c/Python_WorkShops/blob/main/PythonModulesBasics/SeleniumModuleBasics/SS/SS1.png?raw=true)"
   ]
  },
  {
   "cell_type": "code",
   "execution_count": 73,
   "id": "13714461",
   "metadata": {
    "scrolled": true
   },
   "outputs": [
    {
     "data": {
      "text/plain": [
       "'About\\nDownloads\\nDocumentation\\nCommunity\\nSuccess Stories\\nNews\\nEvents'"
      ]
     },
     "execution_count": 73,
     "metadata": {},
     "output_type": "execute_result"
    }
   ],
   "source": [
    "driver.get(\"https://www.python.org/\")\n",
    "driver.find_element_by_id(\"mainnav\").text\n"
   ]
  },
  {
   "cell_type": "markdown",
   "id": "0d703961",
   "metadata": {},
   "source": [
    "![](https://github.com/berkay-c/Python_WorkShops/blob/main/PythonModulesBasics/SeleniumModuleBasics/SS/SS2.png?raw=true)"
   ]
  },
  {
   "cell_type": "code",
   "execution_count": 74,
   "id": "71269f86",
   "metadata": {},
   "outputs": [
    {
     "data": {
      "text/plain": [
       "'Python is a programming language that lets you work quickly\\nand integrate systems more effectively. Learn More'"
      ]
     },
     "execution_count": 74,
     "metadata": {},
     "output_type": "execute_result"
    }
   ],
   "source": [
    "driver.find_element_by_class_name(\"introduction\").text"
   ]
  },
  {
   "cell_type": "markdown",
   "id": "22f8d5aa",
   "metadata": {},
   "source": [
    "![](https://github.com/berkay-c/Python_WorkShops/blob/main/PythonModulesBasics/SeleniumModuleBasics/SS/SS3.png?raw=true)"
   ]
  },
  {
   "cell_type": "code",
   "execution_count": 75,
   "id": "ccf0ded5",
   "metadata": {},
   "outputs": [
    {
     "data": {
      "text/plain": [
       "'If you want to create quick bug reproduction scripts, create scripts to aid in automation-aided exploratory testing, then you want to use Selenium IDE; a Chrome, Firefox and Edge add-on that will do simple record-and-playback of interactions with the browser.'"
      ]
     },
     "execution_count": 75,
     "metadata": {},
     "output_type": "execute_result"
    }
   ],
   "source": [
    "driver.get(\"https://www.selenium.dev/\")\n",
    "driver.find_element_by_css_selector(\"div.col-lg-4:nth-child(2) > div:nth-child(1) > div:nth-child(1) > p:nth-child(4)\").text"
   ]
  },
  {
   "cell_type": "raw",
   "id": "3a4fe717",
   "metadata": {},
   "source": [
    "Let's have html element like below\n",
    "----------------------------------\n",
    "<div id=\"List\">\n",
    "  <fieldset>\n",
    "    <label data=\"name\">Berkay</label>\n",
    "    <label data=\"surname\">Çiftçi</label>\n",
    "    <label data=\"page1\">ONE</label>\n",
    "    <label data=\"page2\">TWO</label>\n",
    "    <label data=\"cname\">HzApple</label>\n",
    "  </fieldset>\n",
    "</div>"
   ]
  },
  {
   "cell_type": "raw",
   "id": "8075fb3d",
   "metadata": {},
   "source": [
    "driver.find_element_by_css_selector(\"label[data='name']\")\n",
    ">>>'Berkay'\n",
    "driver.find_element_by_css_selector(\"label[data='surname']\")\n",
    ">>>'Çiftçi'\n",
    "-----------------------------------------------\n",
    "If we want to find values starting with 'page':\n",
    "\n",
    "driver.find_elemnts_by_css_selector(\"label[data^='page']\")[0].text\n",
    ">>>'ONE'\n",
    "driver.find_elemnts_by_css_selector(\"label[data^='page']\")[1].text\n",
    ">>>'TWO'\n",
    "------------------------------------------------\n",
    "If we want to find the value ending with 'name':\n",
    "\n",
    "driver.find_elemnts_by_css_selector(\"label[data$='page']\")[0].text\n",
    ">>>'Berkay'\n",
    "driver.find_elemnts_by_css_selector(\"label[data$='page']\")[1].text\n",
    ">>>'Çiftçi'\n",
    "-------------------------------------------------------------------\n",
    "An asterisk is used to find whether a value we want is in it or not.\n",
    "\n",
    "driver.find_elemnts_by_css_selector(\"label[data*='nam']\")[0].text\n",
    ">>>'Berkay'\n",
    "driver.find_elemnts_by_css_selector(\"label[data*='nam']\")[1].text\n",
    ">>>'Çiftçi'\n",
    "driver.find_elemnts_by_css_selector(\"label[data*='nam']\")[2].text\n",
    ">>>'HzApple'\n"
   ]
  },
  {
   "cell_type": "markdown",
   "id": "e96c782c",
   "metadata": {},
   "source": [
    "![](https://github.com/berkay-c/Python_WorkShops/blob/main/PythonModulesBasics/SeleniumModuleBasics/SS/SS4.png?raw=true)"
   ]
  },
  {
   "cell_type": "code",
   "execution_count": 76,
   "id": "17458fdd",
   "metadata": {},
   "outputs": [
    {
     "data": {
      "text/plain": [
       "'Hakkında'"
      ]
     },
     "execution_count": 76,
     "metadata": {},
     "output_type": "execute_result"
    }
   ],
   "source": [
    "driver.get(\"https://www.instagram.com/?hl=tr\")\n",
    "driver.find_elements_by_xpath(\"/html/body/div[1]/section/footer/div/div[1]/div[1]/div[1]/a/div\")[0].text"
   ]
  },
  {
   "cell_type": "markdown",
   "id": "1e4bb3ad",
   "metadata": {},
   "source": [
    "![](https://github.com/berkay-c/Python_WorkShops/blob/main/PythonModulesBasics/SeleniumModuleBasics/SS/SS5.png?raw=true)"
   ]
  },
  {
   "cell_type": "code",
   "execution_count": 79,
   "id": "3fdf6967",
   "metadata": {},
   "outputs": [
    {
     "data": {
      "text/plain": [
       "'Giriş Yap'"
      ]
     },
     "execution_count": 79,
     "metadata": {},
     "output_type": "execute_result"
    }
   ],
   "source": [
    "driver.find_element_by_xpath(\"//button[@type='submit']\").text"
   ]
  },
  {
   "cell_type": "markdown",
   "id": "c40973db",
   "metadata": {},
   "source": [
    "![](https://github.com/berkay-c/Python_WorkShops/blob/main/PythonModulesBasics/SeleniumModuleBasics/SS/SS6.png?raw=true)"
   ]
  },
  {
   "cell_type": "code",
   "execution_count": 100,
   "id": "9b7afbaa",
   "metadata": {},
   "outputs": [
    {
     "name": "stdout",
     "output_type": "stream",
     "text": [
      "Adana\n",
      "01\n",
      "Adıyaman\n",
      "02\n",
      "Afyon\n",
      "03\n",
      "Ağrı\n",
      "04\n",
      "Amasya\n",
      "05\n",
      "Ankara\n",
      "06\n",
      "Antalya\n",
      "07\n",
      "Artvin\n",
      "08\n",
      "Aydın\n",
      "09\n",
      "Balıkesir\n",
      "10\n",
      "Bilecik\n",
      "11\n",
      "Bingöl\n",
      "12\n",
      "Bitlis\n",
      "13\n",
      "Bolu\n",
      "14\n",
      "Burdur\n",
      "15\n",
      "Bursa\n",
      "16\n",
      "Çanakkale\n",
      "17\n",
      "Çankırı\n",
      "18\n",
      "Çorum\n",
      "19\n",
      "Denizli\n",
      "20\n",
      "Diyarbakır\n",
      "21\n",
      "Edirne\n",
      "22\n",
      "Elazığ\n",
      "23\n",
      "Erzincan\n",
      "24\n",
      "Erzurum\n",
      "25\n",
      "Eskişehir\n",
      "26\n",
      "Gaziantep\n",
      "27\n",
      "Giresun\n",
      "28\n",
      "Gümüşhane\n",
      "29\n",
      "Hakkari\n",
      "30\n",
      "Hatay\n",
      "31\n",
      "Isparta\n",
      "32\n",
      "İçel\n",
      "33\n",
      "İstanbul\n",
      "34\n",
      "İzmir\n",
      "35\n",
      "Kars\n",
      "36\n",
      "Kastamonu\n",
      "37\n",
      "Kayseri\n",
      "38\n",
      "Kırklareli\n",
      "39\n",
      "Kırşehir\n",
      "40\n",
      "Kocaeli\n",
      "41\n",
      "Konya\n",
      "42\n",
      "Kütahya\n",
      "43\n",
      "Malatya\n",
      "44\n",
      "Manisa\n",
      "45\n",
      "Kahramanmaraş\n",
      "46\n",
      "Mardin\n",
      "47\n",
      "Muğla\n",
      "48\n",
      "Muş\n",
      "49\n",
      "Nevşehir\n",
      "50\n",
      "Niğde\n",
      "51\n",
      "Ordu\n",
      "52\n",
      "Rize\n",
      "53\n",
      "Sakarya\n",
      "54\n",
      "Samsun\n",
      "55\n",
      "Siirt\n",
      "56\n",
      "Sinop\n",
      "57\n",
      "Sivas\n",
      "58\n",
      "Tekirdağ\n",
      "59\n",
      "Tokat\n",
      "60\n",
      "Trabzon\n",
      "61\n",
      "Tunceli\n",
      "62\n",
      "Şanlıurfa\n",
      "63\n",
      "Uşak\n",
      "64\n",
      "Van\n",
      "65\n",
      "Yozgat\n",
      "66\n",
      "Zonguldak\n",
      "67\n",
      "Aksaray\n",
      "68\n",
      "Bayburt\n",
      "69\n",
      "Karaman\n",
      "70\n",
      "Kırıkkale\n",
      "71\n",
      "Batman\n",
      "72\n",
      "Şırnak\n",
      "73\n",
      "Bartın\n",
      "74\n",
      "Ardahan\n",
      "75\n",
      "Iğdır\n",
      "76\n",
      "Yalova\n",
      "77\n",
      "Karabük\n",
      "78\n",
      "Kilis\n",
      "79\n",
      "Osmaniye\n",
      "80\n",
      "Düzce\n",
      "81\n"
     ]
    }
   ],
   "source": [
    "driver.get(\"https://www.nufusu.com/il-plaka-kodlari\")\n",
    "plateCode=driver.find_elements_by_xpath(\"//td\")\n",
    "for all in plateCode:\n",
    "    print(all.text)"
   ]
  }
 ],
 "metadata": {
  "kernelspec": {
   "display_name": "Python 3",
   "language": "python",
   "name": "python3"
  },
  "language_info": {
   "codemirror_mode": {
    "name": "ipython",
    "version": 3
   },
   "file_extension": ".py",
   "mimetype": "text/x-python",
   "name": "python",
   "nbconvert_exporter": "python",
   "pygments_lexer": "ipython3",
   "version": "3.8.8"
  }
 },
 "nbformat": 4,
 "nbformat_minor": 5
}
