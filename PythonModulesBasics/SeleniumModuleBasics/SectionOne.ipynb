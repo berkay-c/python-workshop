{
 "cells": [
  {
   "cell_type": "markdown",
   "id": "eed81053",
   "metadata": {},
   "source": [
    "## We Download Chrome Driver or Firefox Driver Suitable for Our Operating System."
   ]
  },
  {
   "cell_type": "markdown",
   "id": "7619d104",
   "metadata": {},
   "source": [
    "* https://chromedriver.storage.googleapis.com/index.html?path=92.0.4515.107/ (For Chrome)\n",
    "* https://github.com/mozilla/geckodriver/releases/ (For Firefox Web Browser)"
   ]
  },
  {
   "cell_type": "markdown",
   "id": "84b38a21",
   "metadata": {},
   "source": [
    "## Selenium Module Installation"
   ]
  },
  {
   "cell_type": "markdown",
   "id": "4243fe4f",
   "metadata": {},
   "source": [
    " * apt-get install python3-pip\n",
    " * pip3 install selenium"
   ]
  },
  {
   "cell_type": "markdown",
   "id": "7b9a1dc7",
   "metadata": {},
   "source": [
    "## Let's Import Webdriver Package in Selenium and Import Required Modules"
   ]
  },
  {
   "cell_type": "code",
   "execution_count": 8,
   "id": "82bafbaa",
   "metadata": {},
   "outputs": [],
   "source": [
    "from selenium import webdriver\n",
    "import time"
   ]
  },
  {
   "cell_type": "markdown",
   "id": "4a646983",
   "metadata": {},
   "source": [
    "## Let's Assign the Path of the Downloaded Web Driver Package to Our Variable Named Driver_path"
   ]
  },
  {
   "cell_type": "code",
   "execution_count": 9,
   "id": "55e30460",
   "metadata": {},
   "outputs": [],
   "source": [
    "driver_path = \"/home/berkay/Downloads/geckodriver\" # or windows_path = \"c:\\\\dowloads\\\\chromedriver.exe\""
   ]
  },
  {
   "cell_type": "markdown",
   "id": "f792f4b4",
   "metadata": {},
   "source": [
    "## Useful Methods (Get, Title, Back, Refresh, Close, Quit) "
   ]
  },
  {
   "cell_type": "code",
   "execution_count": 16,
   "id": "0afee14f",
   "metadata": {},
   "outputs": [],
   "source": [
    "driver = webdriver.Firefox(executable_path=driver_path)\n",
    "# While Working With Geckodriver, Firefox and Selenium, You Need to Use the Key Executable_path\n",
    "\n",
    "\n",
    "driver.set_window_size(800,600)\n",
    "driver.get(\"https://www.youtube.com\")\n",
    "# print(\"Page Title = \",driver.title)\n",
    "driver.refresh()\n",
    "time.sleep(7)\n",
    "driver.save_screenshot(\"/home/berkay/screenShot.png\")\n",
    "driver.get(\"https://twitter.com/\")\n",
    "# print(driver.page_source)\n",
    "time.sleep(7)\n",
    "driver.maximize_window()\n",
    "time.sleep(7)\n",
    "driver.back()\n",
    "time.sleep(7)\n",
    "\n",
    "\n",
    "driver.close()  # Closes the Tab \n",
    "# driver.quit() #Closes All Tab"
   ]
  },
  {
   "cell_type": "markdown",
   "id": "8805b923",
   "metadata": {},
   "source": [
    "### In Order to See All the Methods We Can Use, We Need to Click the Tab Button After Writing the Code Given Below.\n",
    "* driver.\n"
   ]
  }
 ],
 "metadata": {
  "kernelspec": {
   "display_name": "Python 3",
   "language": "python",
   "name": "python3"
  },
  "language_info": {
   "codemirror_mode": {
    "name": "ipython",
    "version": 3
   },
   "file_extension": ".py",
   "mimetype": "text/x-python",
   "name": "python",
   "nbconvert_exporter": "python",
   "pygments_lexer": "ipython3",
   "version": "3.8.8"
  }
 },
 "nbformat": 4,
 "nbformat_minor": 5
}
